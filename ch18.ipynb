{
 "cells": [
  {
   "metadata": {},
   "cell_type": "markdown",
   "source": [
    "## Background\n",
    "\n",
    "- You are an analyst with a company manufacturing electric vehicles.\n",
    "- You have multiple suppliers providing multiple parts.\n",
    "- Executives at your company have asked you to analyze inventory management.\n",
    "- **Key Question**: Can the company reduce costs by using a single supplier instead of three suppliers?\n",
    "\n",
    "---\n",
    "\n",
    "## Project Tasks\n",
    "\n",
    "- **Describe** the structure of order data provided by the inventory management team.\n",
    "- **Clean** the dataset:\n",
    "  - Remove duplicate rows.\n",
    "  - Remove rows with missing data.\n",
    "- **Compute** the average time to delivery by supplier:\n",
    "  - Delivery time = `expected delivery date` − `order date`.\n",
    "- **Create** an inventory management simulation:\n",
    "  - Randomly select demand from a **normal distribution**:\n",
    "    - Mean: 50\n",
    "    - Standard deviation: 10\n",
    "  - Holding cost: **$10 per unit per day**.\n",
    "\n",
    "  - Shortage cost: **$50 per unit per day**.\n",
    "\n",
    "---\n",
    "\n",
    "## Other Project Tasks\n",
    "\n",
    "- For each supplier, use their **average days to delivery** as the order lead time.\n",
    "- Run a **180-day simulation** for each supplier and calculate inventory management costs.\n",
    "- **Goal**: Identify which supplier results in the **lowest costs**."
   ],
   "id": "8f4a672f1d1c0101"
  },
  {
   "metadata": {
    "ExecuteTime": {
     "end_time": "2025-07-16T03:22:01.325382Z",
     "start_time": "2025-07-16T03:22:01.267729Z"
    }
   },
   "cell_type": "code",
   "source": [
    "import numpy as np\n",
    "import pandas as pd\n",
    "import random as rd\n",
    "import matplotlib.pyplot as plt\n",
    "\n",
    "data = pd.read_csv('B2B_Order_Data.csv')\n",
    "# Clean data\n",
    "data = data.drop_duplicates()\n",
    "data = data.dropna()\n",
    "data.info()\n",
    "# Convert to datetime\n",
    "data['Expected_Delivery_Date'] = pd.to_datetime(data['Expected_Delivery_Date'])\n",
    "data['Order_Date'] = pd.to_datetime(data['Order_Date'])\n",
    "# Compute delivery time in days\n",
    "data['Delivery_Time'] = (data['Expected_Delivery_Date'] - data['Order_Date']).dt.days\n"
   ],
   "id": "544162798e705449",
   "outputs": [
    {
     "name": "stdout",
     "output_type": "stream",
     "text": [
      "<class 'pandas.core.frame.DataFrame'>\n",
      "Index: 996 entries, 0 to 1001\n",
      "Data columns (total 9 columns):\n",
      " #   Column                  Non-Null Count  Dtype  \n",
      "---  ------                  --------------  -----  \n",
      " 0   Supplier_ID             996 non-null    object \n",
      " 1   Order_Date              996 non-null    object \n",
      " 2   Shipping_Date           996 non-null    object \n",
      " 3   Expected_Delivery_Date  996 non-null    object \n",
      " 4   Product_Code            996 non-null    object \n",
      " 5   Product_Name            996 non-null    object \n",
      " 6   Per_Unit_Cost           996 non-null    float64\n",
      " 7   Quantity                996 non-null    int64  \n",
      " 8   Total_Cost              996 non-null    float64\n",
      "dtypes: float64(2), int64(1), object(6)\n",
      "memory usage: 77.8+ KB\n"
     ]
    }
   ],
   "execution_count": 11
  },
  {
   "metadata": {
    "ExecuteTime": {
     "end_time": "2025-07-16T03:34:47.434829Z",
     "start_time": "2025-07-16T03:34:47.364345Z"
    }
   },
   "cell_type": "code",
   "source": [
    "'''\n",
    "SIMULATION PARAMS\n",
    "'''\n",
    "demand_mean = 50\n",
    "demand_stddev = 10\n",
    "\n",
    "num_simulations = 100\n",
    "sim_days = 180\n",
    "holding_cost = 10  # Per unit per day\n",
    "shortage_cost = 50  # Per unit per day\n",
    "\n",
    "order_lead_time_sup1 = data.loc[data['Supplier_ID'] == 'SUP1', 'Delivery_Time'].mean()\n",
    "order_lead_time_sup2 = data.loc[data['Supplier_ID'] == 'SUP2', 'Delivery_Time'].mean()\n",
    "order_lead_time_sup3 = data.loc[data['Supplier_ID'] == 'SUP3', 'Delivery_Time'].mean()\n",
    "suppliers_dt = [order_lead_time_sup1, order_lead_time_sup2, order_lead_time_sup3]\n",
    "\n",
    "\n",
    "def run_sim(order_lead_time):\n",
    "    total_holding_cost = 0\n",
    "    total_shortage_cost = 0\n",
    "    inventory_level = 0\n",
    "    daily_demand = np.random.normal(demand_mean, demand_stddev, sim_days)\n",
    "\n",
    "    for day in range(sim_days):\n",
    "        demand = daily_demand[day]\n",
    "        inventory_level -= demand\n",
    "        # Check for new arriving orders\n",
    "        if day % order_lead_time == 0:\n",
    "            inventory_level += demand_mean * order_lead_time\n",
    "        # Calculate shortage cost\n",
    "        if inventory_level < demand:\n",
    "            total_shortage_cost += abs(inventory_level) * shortage_cost\n",
    "            inventory_level = 0\n",
    "        # Calculate holding cost\n",
    "        total_holding_cost += inventory_level * holding_cost\n",
    "\n",
    "    return total_holding_cost, total_shortage_cost\n",
    "\n",
    "\n",
    "results = {'Supplier': [], 'Simulation': [], 'Total_Holding_Cost': [], 'Total_Shortage_Cost': []}\n",
    "for index, supplier in enumerate(suppliers_dt):\n",
    "    supplier_cost = 0\n",
    "    supplier_cost_list = []\n",
    "    for simulation in range(num_simulations):\n",
    "        total_holding_cost, total_shortage_cost = run_sim(supplier)\n",
    "        sim_cost = total_holding_cost + total_shortage_cost\n",
    "        supplier_cost += sim_cost\n",
    "        results['Supplier'].append(index + 1)\n",
    "        results['Simulation'].append(simulation + 1)\n",
    "        results['Total_Holding_Cost'].append(total_holding_cost)\n",
    "        results['Total_Shortage_Cost'].append(total_shortage_cost)\n",
    "        supplier_cost_list.append(sim_cost)\n",
    "    print(\n",
    "        f'Supplier {index + 1} total sims cost: {supplier_cost}\\n Supplier mean cost: {np.array(supplier_cost_list).mean()}')\n",
    "\n",
    "results_df = pd.DataFrame(results)\n"
   ],
   "id": "9ece8d8de7c88b0f",
   "outputs": [
    {
     "name": "stdout",
     "output_type": "stream",
     "text": [
      "Supplier 1 total sims cost: 46166452.939279385\n",
      " Supplier mean cost: 461664.52939279395\n",
      "Supplier 2 total sims cost: 45822079.45314386\n",
      " Supplier mean cost: 458220.7945314385\n",
      "Supplier 3 total sims cost: 46139186.691365846\n",
      " Supplier mean cost: 461391.8669136584\n"
     ]
    }
   ],
   "execution_count": 43
  }
 ],
 "metadata": {
  "kernelspec": {
   "name": "conda-base-py",
   "language": "python",
   "display_name": "Python [conda env:base] *"
  }
 },
 "nbformat": 4,
 "nbformat_minor": 5
}
